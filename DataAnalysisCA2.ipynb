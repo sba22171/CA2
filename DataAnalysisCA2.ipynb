{
 "cells": [
  {
   "cell_type": "code",
   "execution_count": 1,
   "id": "027202a6",
   "metadata": {},
   "outputs": [],
   "source": [
    "# Load the libraries\n",
    "import numpy as np\n",
    "import matplotlib.pyplot as plt\n",
    "import pandas as pd\n",
    "\n",
    "import warnings\n",
    "warnings.filterwarnings('ignore') # We can suppress the warnings"
   ]
  },
  {
   "cell_type": "code",
   "execution_count": 2,
   "id": "f47b03c2",
   "metadata": {},
   "outputs": [
    {
     "data": {
      "text/html": [
       "<div>\n",
       "<style scoped>\n",
       "    .dataframe tbody tr th:only-of-type {\n",
       "        vertical-align: middle;\n",
       "    }\n",
       "\n",
       "    .dataframe tbody tr th {\n",
       "        vertical-align: top;\n",
       "    }\n",
       "\n",
       "    .dataframe thead th {\n",
       "        text-align: right;\n",
       "    }\n",
       "</style>\n",
       "<table border=\"1\" class=\"dataframe\">\n",
       "  <thead>\n",
       "    <tr style=\"text-align: right;\">\n",
       "      <th></th>\n",
       "      <th>Domain Code</th>\n",
       "      <th>Domain</th>\n",
       "      <th>Area Code (M49)</th>\n",
       "      <th>Area</th>\n",
       "      <th>Element Code</th>\n",
       "      <th>Element</th>\n",
       "      <th>Item Code (CPC)</th>\n",
       "      <th>Item</th>\n",
       "      <th>Year Code</th>\n",
       "      <th>Year</th>\n",
       "      <th>Unit</th>\n",
       "      <th>Value</th>\n",
       "      <th>Flag</th>\n",
       "      <th>Flag Description</th>\n",
       "    </tr>\n",
       "  </thead>\n",
       "  <tbody>\n",
       "    <tr>\n",
       "      <th>0</th>\n",
       "      <td>QCL</td>\n",
       "      <td>Crops and livestock products</td>\n",
       "      <td>40</td>\n",
       "      <td>Austria</td>\n",
       "      <td>5510</td>\n",
       "      <td>Production</td>\n",
       "      <td>22241.01</td>\n",
       "      <td>Butter of cow milk</td>\n",
       "      <td>1961</td>\n",
       "      <td>1961</td>\n",
       "      <td>tonnes</td>\n",
       "      <td>38049.0</td>\n",
       "      <td>A</td>\n",
       "      <td>Official figure</td>\n",
       "    </tr>\n",
       "    <tr>\n",
       "      <th>1</th>\n",
       "      <td>QCL</td>\n",
       "      <td>Crops and livestock products</td>\n",
       "      <td>40</td>\n",
       "      <td>Austria</td>\n",
       "      <td>5510</td>\n",
       "      <td>Production</td>\n",
       "      <td>22241.01</td>\n",
       "      <td>Butter of cow milk</td>\n",
       "      <td>1962</td>\n",
       "      <td>1962</td>\n",
       "      <td>tonnes</td>\n",
       "      <td>38885.0</td>\n",
       "      <td>A</td>\n",
       "      <td>Official figure</td>\n",
       "    </tr>\n",
       "    <tr>\n",
       "      <th>2</th>\n",
       "      <td>QCL</td>\n",
       "      <td>Crops and livestock products</td>\n",
       "      <td>40</td>\n",
       "      <td>Austria</td>\n",
       "      <td>5510</td>\n",
       "      <td>Production</td>\n",
       "      <td>22241.01</td>\n",
       "      <td>Butter of cow milk</td>\n",
       "      <td>1963</td>\n",
       "      <td>1963</td>\n",
       "      <td>tonnes</td>\n",
       "      <td>40251.0</td>\n",
       "      <td>A</td>\n",
       "      <td>Official figure</td>\n",
       "    </tr>\n",
       "    <tr>\n",
       "      <th>3</th>\n",
       "      <td>QCL</td>\n",
       "      <td>Crops and livestock products</td>\n",
       "      <td>40</td>\n",
       "      <td>Austria</td>\n",
       "      <td>5510</td>\n",
       "      <td>Production</td>\n",
       "      <td>22241.01</td>\n",
       "      <td>Butter of cow milk</td>\n",
       "      <td>1964</td>\n",
       "      <td>1964</td>\n",
       "      <td>tonnes</td>\n",
       "      <td>41566.0</td>\n",
       "      <td>A</td>\n",
       "      <td>Official figure</td>\n",
       "    </tr>\n",
       "    <tr>\n",
       "      <th>4</th>\n",
       "      <td>QCL</td>\n",
       "      <td>Crops and livestock products</td>\n",
       "      <td>40</td>\n",
       "      <td>Austria</td>\n",
       "      <td>5510</td>\n",
       "      <td>Production</td>\n",
       "      <td>22241.01</td>\n",
       "      <td>Butter of cow milk</td>\n",
       "      <td>1965</td>\n",
       "      <td>1965</td>\n",
       "      <td>tonnes</td>\n",
       "      <td>44665.0</td>\n",
       "      <td>A</td>\n",
       "      <td>Official figure</td>\n",
       "    </tr>\n",
       "  </tbody>\n",
       "</table>\n",
       "</div>"
      ],
      "text/plain": [
       "  Domain Code                        Domain  Area Code (M49)     Area  \\\n",
       "0         QCL  Crops and livestock products               40  Austria   \n",
       "1         QCL  Crops and livestock products               40  Austria   \n",
       "2         QCL  Crops and livestock products               40  Austria   \n",
       "3         QCL  Crops and livestock products               40  Austria   \n",
       "4         QCL  Crops and livestock products               40  Austria   \n",
       "\n",
       "   Element Code     Element  Item Code (CPC)                Item  Year Code  \\\n",
       "0          5510  Production         22241.01  Butter of cow milk       1961   \n",
       "1          5510  Production         22241.01  Butter of cow milk       1962   \n",
       "2          5510  Production         22241.01  Butter of cow milk       1963   \n",
       "3          5510  Production         22241.01  Butter of cow milk       1964   \n",
       "4          5510  Production         22241.01  Butter of cow milk       1965   \n",
       "\n",
       "   Year    Unit    Value Flag Flag Description  \n",
       "0  1961  tonnes  38049.0    A  Official figure  \n",
       "1  1962  tonnes  38885.0    A  Official figure  \n",
       "2  1963  tonnes  40251.0    A  Official figure  \n",
       "3  1964  tonnes  41566.0    A  Official figure  \n",
       "4  1965  tonnes  44665.0    A  Official figure  "
      ]
     },
     "execution_count": 2,
     "metadata": {},
     "output_type": "execute_result"
    }
   ],
   "source": [
    "# Load csv file into dataframe (df)\n",
    "df = pd.read_csv('FAOSTAT_data_en_1-1-2023.csv',encoding_errors='ignore')\n",
    "\n",
    "# Display first 5 records\n",
    "df.head()\n"
   ]
  },
  {
   "cell_type": "markdown",
   "id": "ed6dcd66",
   "metadata": {},
   "source": [
    "# DESCRIPTIVE STATISTICS"
   ]
  },
  {
   "cell_type": "markdown",
   "id": "6f9c60d0",
   "metadata": {},
   "source": [
    "## Ireland"
   ]
  },
  {
   "cell_type": "code",
   "execution_count": 3,
   "id": "512bcc4b",
   "metadata": {},
   "outputs": [],
   "source": [
    "df_ireland = df.loc[df[\"Area\"] == 'Ireland']"
   ]
  },
  {
   "cell_type": "code",
   "execution_count": 4,
   "id": "c4541a62",
   "metadata": {},
   "outputs": [
    {
     "data": {
      "text/plain": [
       "279607.3867837079"
      ]
     },
     "execution_count": 4,
     "metadata": {},
     "output_type": "execute_result"
    }
   ],
   "source": [
    "df_ireland[\"Value\"].mean()"
   ]
  },
  {
   "cell_type": "code",
   "execution_count": 5,
   "id": "69513b03",
   "metadata": {},
   "outputs": [
    {
     "data": {
      "text/plain": [
       "23500.805"
      ]
     },
     "execution_count": 5,
     "metadata": {},
     "output_type": "execute_result"
    }
   ],
   "source": [
    "df_ireland[\"Value\"].median()"
   ]
  },
  {
   "cell_type": "code",
   "execution_count": 6,
   "id": "d76ea666",
   "metadata": {},
   "outputs": [
    {
     "data": {
      "text/plain": [
       "0    0.0\n",
       "Name: Value, dtype: float64"
      ]
     },
     "execution_count": 6,
     "metadata": {},
     "output_type": "execute_result"
    }
   ],
   "source": [
    "df_ireland[\"Value\"].mode()"
   ]
  },
  {
   "cell_type": "code",
   "execution_count": 7,
   "id": "a791bd67",
   "metadata": {},
   "outputs": [
    {
     "data": {
      "text/plain": [
       "674990963988.973"
      ]
     },
     "execution_count": 7,
     "metadata": {},
     "output_type": "execute_result"
    }
   ],
   "source": [
    "# Variance : S²\n",
    "df_ireland[\"Value\"].var()"
   ]
  },
  {
   "cell_type": "code",
   "execution_count": 8,
   "id": "daa7028e",
   "metadata": {},
   "outputs": [
    {
     "data": {
      "text/plain": [
       "821578.337098157"
      ]
     },
     "execution_count": 8,
     "metadata": {},
     "output_type": "execute_result"
    }
   ],
   "source": [
    "# Standard Deviation : S\n",
    "df_ireland[\"Value\"].std()"
   ]
  },
  {
   "cell_type": "markdown",
   "id": "a4bf6a5c",
   "metadata": {},
   "source": [
    "## Rest of countries"
   ]
  },
  {
   "cell_type": "code",
   "execution_count": 9,
   "id": "92f093e2",
   "metadata": {},
   "outputs": [],
   "source": [
    "df_not_ireland = df.loc[df[\"Area\"] != 'Ireland']"
   ]
  },
  {
   "cell_type": "code",
   "execution_count": 10,
   "id": "7f93cf9c",
   "metadata": {},
   "outputs": [
    {
     "data": {
      "text/plain": [
       "557278.4293176632"
      ]
     },
     "execution_count": 10,
     "metadata": {},
     "output_type": "execute_result"
    }
   ],
   "source": [
    "df_not_ireland[\"Value\"].mean()"
   ]
  },
  {
   "cell_type": "code",
   "execution_count": 11,
   "id": "f704f1f4",
   "metadata": {},
   "outputs": [
    {
     "data": {
      "text/plain": [
       "42045.0"
      ]
     },
     "execution_count": 11,
     "metadata": {},
     "output_type": "execute_result"
    }
   ],
   "source": [
    "df_not_ireland[\"Value\"].median()"
   ]
  },
  {
   "cell_type": "code",
   "execution_count": 12,
   "id": "2210554b",
   "metadata": {},
   "outputs": [
    {
     "data": {
      "text/plain": [
       "0    0.0\n",
       "Name: Value, dtype: float64"
      ]
     },
     "execution_count": 12,
     "metadata": {},
     "output_type": "execute_result"
    }
   ],
   "source": [
    "df_not_ireland[\"Value\"].mode()"
   ]
  },
  {
   "cell_type": "code",
   "execution_count": 13,
   "id": "da867c0c",
   "metadata": {},
   "outputs": [
    {
     "data": {
      "text/plain": [
       "4762187406256.171"
      ]
     },
     "execution_count": 13,
     "metadata": {},
     "output_type": "execute_result"
    }
   ],
   "source": [
    "# Variance : S²\n",
    "df_not_ireland[\"Value\"].var()"
   ]
  },
  {
   "cell_type": "code",
   "execution_count": 14,
   "id": "fc6f7589",
   "metadata": {},
   "outputs": [
    {
     "data": {
      "text/plain": [
       "2182243.663355715"
      ]
     },
     "execution_count": 14,
     "metadata": {},
     "output_type": "execute_result"
    }
   ],
   "source": [
    "# Standard Deviation : S\n",
    "df_not_ireland[\"Value\"].std()"
   ]
  },
  {
   "cell_type": "markdown",
   "id": "448ca021",
   "metadata": {},
   "source": [
    "# inferential statistics\n",
    "## Time series analysis "
   ]
  },
  {
   "cell_type": "code",
   "execution_count": 15,
   "id": "15521763",
   "metadata": {},
   "outputs": [
    {
     "data": {
      "text/plain": [
       "Text(0.5, 1.0, 'Skim Milk of Cows Ireland Time Series')"
      ]
     },
     "execution_count": 15,
     "metadata": {},
     "output_type": "execute_result"
    },
    {
     "data": {
      "image/png": "[encoded data removed]",
      "text/plain": [
       "<Figure size 640x480 with 1 Axes>"
      ]
     },
     "metadata": {},
     "output_type": "display_data"
    }
   ],
   "source": [
    "import matplotlib.pyplot as plt\n",
    "import seaborn as sns \n",
    "df_ireland = pd.read_csv('TimeSeries_skim_milk_of_cows_ireland.csv')\n",
    "df_europe = pd.read_csv('TimeSeries_skim_milk_of_cows_europe.csv')\n",
    "\n",
    "sns.lineplot(df_ireland, x=\"Year\", y=\"Value\")\n",
    "plt.ylabel('Value')\n",
    "plt.xlabel('Year')\n",
    "plt.title(\"Skim Milk of Cows Ireland Time Series\")"
   ]
  },
  {
   "cell_type": "code",
   "execution_count": 16,
   "id": "9efcdfba",
   "metadata": {},
   "outputs": [
    {
     "data": {
      "text/plain": [
       "Text(0.5, 1.0, 'Skim Milk of Cows Europe Time Series')"
      ]
     },
     "execution_count": 16,
     "metadata": {},
     "output_type": "execute_result"
    },
    {
     "data": {
      "image/png": "[encoded data removed]",
      "text/plain": [
       "<Figure size 640x480 with 1 Axes>"
      ]
     },
     "metadata": {},
     "output_type": "display_data"
    }
   ],
   "source": [
    "sns.lineplot(df_europe, x=\"Year\", y=\"Value\")\n",
    "plt.ylabel('Value')\n",
    "plt.xlabel('Year')\n",
    "plt.title(\"Skim Milk of Cows Europe Time Series\")"
   ]
  },
  {
   "cell_type": "code",
   "execution_count": 17,
   "id": "b007c744",
   "metadata": {},
   "outputs": [
    {
     "data": {
      "image/png": "[encoded data removed]",
      "text/plain": [
       "<Figure size 640x480 with 1 Axes>"
      ]
     },
     "metadata": {},
     "output_type": "display_data"
    }
   ],
   "source": [
    "ax = sns.scatterplot(x=\"Year\", y=\"Value\", data=df_ireland)"
   ]
  },
  {
   "cell_type": "code",
   "execution_count": 18,
   "id": "9f5bfc9e",
   "metadata": {},
   "outputs": [
    {
     "data": {
      "image/png": "[encoded data removed]",
      "text/plain": [
       "<Figure size 640x480 with 1 Axes>"
      ]
     },
     "metadata": {},
     "output_type": "display_data"
    }
   ],
   "source": [
    "ax = sns.scatterplot(x=\"Year\", y=\"Value\", data=df_europe)"
   ]
  },
  {
   "cell_type": "markdown",
   "id": "448be50b",
   "metadata": {},
   "source": [
    "## poisson distribution¶\n",
    "based on a given St Stephens Green street, what is the probability of a given number of parking bays to be suspended in a given day\n",
    "\n",
    "If we take the total days for the dataset, and calculate the number of parking bays for a given street during the same period od time we can get the average number of parking bays per day\n",
    "\n"
   ]
  },
  {
   "cell_type": "code",
   "execution_count": 19,
   "id": "c57465f8",
   "metadata": {},
   "outputs": [],
   "source": [
    "# Dataset started on.....\n",
    "\n",
    "Total_Years = df_ireland[\"Year\"].nunique()"
   ]
  },
  {
   "cell_type": "code",
   "execution_count": 20,
   "id": "0950e952",
   "metadata": {},
   "outputs": [
    {
     "name": "stdout",
     "output_type": "stream",
     "text": [
      "60\n"
     ]
    }
   ],
   "source": [
    "print(Total_Years)\n"
   ]
  },
  {
   "cell_type": "code",
   "execution_count": 21,
   "id": "d79fee31",
   "metadata": {},
   "outputs": [
    {
     "data": {
      "text/plain": [
       "171533112.31"
      ]
     },
     "execution_count": 21,
     "metadata": {},
     "output_type": "execute_result"
    }
   ],
   "source": [
    "df_ireland[\"Value\"].sum()"
   ]
  },
  {
   "cell_type": "code",
   "execution_count": 22,
   "id": "8399711a",
   "metadata": {},
   "outputs": [
    {
     "name": "stdout",
     "output_type": "stream",
     "text": [
      "2858885.205166667\n"
     ]
    }
   ],
   "source": [
    "# The averageof value per year\n",
    "mu = df_ireland[\"Value\"].sum() / Total_Years\n",
    "print(mu)"
   ]
  },
  {
   "cell_type": "code",
   "execution_count": 23,
   "id": "0aa7e780",
   "metadata": {},
   "outputs": [
    {
     "data": {
      "text/plain": [
       "array([2860738, 2859214, 2860732, 2859649, 2858207, 2857155, 2859023,\n",
       "       2856176, 2859691, 2859301, 2862445, 2861153, 2856727, 2859787,\n",
       "       2857685, 2858210, 2859179, 2859117, 2859439, 2855618, 2857222,\n",
       "       2861085, 2861240, 2860363, 2862001, 2858928, 2857635, 2858518,\n",
       "       2857439, 2859329, 2859677, 2862528, 2857115, 2856770, 2857255,\n",
       "       2858010, 2860680, 2861281, 2854679, 2857695, 2857554, 2857646,\n",
       "       2860649, 2859136, 2859799, 2856578, 2859239, 2858666, 2859443,\n",
       "       2856416, 2855949, 2858796, 2857722, 2859067, 2858287, 2860426,\n",
       "       2857684, 2860002, 2860135, 2858539, 2862085, 2860384, 2860196,\n",
       "       2854048, 2858098, 2858803, 2857336, 2856949, 2861524, 2858937,\n",
       "       2858110, 2856874, 2861525, 2857473, 2859211, 2860720, 2860381,\n",
       "       2856546, 2859554, 2855845, 2859673, 2860887, 2858600, 2858006,\n",
       "       2861836, 2861824, 2858021, 2859663, 2857562, 2859543, 2860077,\n",
       "       2858911, 2856548, 2858655, 2858623, 2856410, 2857911, 2857303,\n",
       "       2858783, 2857648, 2859838, 2858721, 2859856, 2854306, 2858943,\n",
       "       2859819, 2859799, 2859578, 2859806, 2857570, 2858735, 2861121,\n",
       "       2857418, 2858040, 2860311, 2859384, 2856383, 2860477, 2856862,\n",
       "       2856643, 2858893, 2859036, 2857607, 2861936, 2859682, 2861714,\n",
       "       2859953, 2857817, 2858788, 2858582, 2857111, 2861225, 2858451,\n",
       "       2859011, 2858653, 2860437, 2858364, 2857839, 2860815, 2859766,\n",
       "       2859254, 2859157, 2859697, 2857393, 2857698, 2859010, 2860936,\n",
       "       2861970, 2862721, 2858171, 2857787, 2860759, 2859901, 2858599,\n",
       "       2858338, 2860725, 2856330, 2859352, 2860391, 2858165, 2857163,\n",
       "       2858251, 2856700, 2857806, 2857538, 2859800, 2860246, 2858900,\n",
       "       2859470, 2856640, 2860779, 2857584, 2861179, 2857861, 2858022,\n",
       "       2859387, 2857277, 2861092, 2858154, 2860376, 2861665, 2855992,\n",
       "       2859597, 2858865, 2858261, 2860268, 2857356, 2858009, 2860401,\n",
       "       2860484, 2861281, 2858451, 2858011, 2857667, 2856750, 2859489,\n",
       "       2859574, 2861005, 2858837, 2858324])"
      ]
     },
     "execution_count": 23,
     "metadata": {},
     "output_type": "execute_result"
    }
   ],
   "source": [
    "from scipy.stats import poisson\n",
    "\n",
    "# mu = average\n",
    "# size = number of xamples\n",
    "\n",
    "#generate random values from Poisson distribution with mean=mu and sample size=200\n",
    "poisson.rvs(mu=mu, size=200)"
   ]
  },
  {
   "cell_type": "code",
   "execution_count": 24,
   "id": "c3878fa0",
   "metadata": {},
   "outputs": [
    {
     "data": {
      "text/plain": [
       "0.0"
      ]
     },
     "execution_count": 24,
     "metadata": {},
     "output_type": "execute_result"
    }
   ],
   "source": [
    "# Probability Equal to Zero\n",
    "from scipy.stats import poisson\n",
    "# EXACT NUMBER\n",
    "\n",
    "# mu = average\n",
    "# k = value we are looking for \n",
    "\n",
    "#calculate probability\n",
    "poisson.pmf(k=0, mu=mu)\n",
    "\n"
   ]
  },
  {
   "cell_type": "code",
   "execution_count": 25,
   "id": "2cfea72f",
   "metadata": {},
   "outputs": [
    {
     "data": {
      "text/plain": [
       "7.309799094249581e-08"
      ]
     },
     "execution_count": 25,
     "metadata": {},
     "output_type": "execute_result"
    }
   ],
   "source": [
    "# Probability Less than 2850000\n",
    "from scipy.stats import poisson\n",
    "\n",
    "# LESS or EQUAL\n",
    "#calculate probability\n",
    "poisson.cdf(k=2850000, mu=mu)\n"
   ]
  },
  {
   "cell_type": "code",
   "execution_count": 26,
   "id": "d66b25d6",
   "metadata": {},
   "outputs": [
    {
     "data": {
      "text/plain": [
       "0.7452677293204444"
      ]
     },
     "execution_count": 26,
     "metadata": {},
     "output_type": "execute_result"
    }
   ],
   "source": [
    "# Probability Greater than  2850000 and less than 2860000 \n",
    "from scipy.stats import poisson\n",
    "\n",
    "poisson.cdf(k=2860000, mu=mu) - poisson.cdf(k=2850000, mu=mu)"
   ]
  },
  {
   "cell_type": "code",
   "execution_count": 27,
   "id": "c96cd553",
   "metadata": {},
   "outputs": [
    {
     "data": {
      "text/plain": [
       "(array([6.98866284e-07, 3.96024227e-06, 2.63239633e-05, 9.45022519e-05,\n",
       "        1.88150334e-04, 2.29228141e-04, 1.57400217e-04, 5.92483305e-05,\n",
       "        1.49091474e-05, 2.09659885e-06]),\n",
       " array([2852051. , 2853338.8, 2854626.6, 2855914.4, 2857202.2, 2858490. ,\n",
       "        2859777.8, 2861065.6, 2862353.4, 2863641.2, 2864929. ]),\n",
       " <BarContainer object of 10 artists>)"
      ]
     },
     "execution_count": 27,
     "metadata": {},
     "output_type": "execute_result"
    },
    {
     "data": {
      "image/png": "[encoded data removed]",
      "text/plain": [
       "<Figure size 640x480 with 1 Axes>"
      ]
     },
     "metadata": {},
     "output_type": "display_data"
    }
   ],
   "source": [
    "# Plot a Poisson Distribution\n",
    "from scipy.stats import poisson\n",
    "import matplotlib.pyplot as plt\n",
    "\n",
    "\n",
    "#generate Poisson distribution with sample size 10000\n",
    "x = poisson.rvs(mu=mu, size=10000)\n",
    "\n",
    "#create plot of Poisson distribution\n",
    "plt.hist(x, density=True, edgecolor='black')"
   ]
  },
  {
   "cell_type": "markdown",
   "id": "48bf2dc6",
   "metadata": {},
   "source": [
    "# parametric and non-parametric inferential statistical "
   ]
  },
  {
   "cell_type": "code",
   "execution_count": 28,
   "id": "97d34922",
   "metadata": {},
   "outputs": [
    {
     "name": "stdout",
     "output_type": "stream",
     "text": [
      "Statistics=0.000, p=0.000\n",
      "Different distribution (reject H0)\n"
     ]
    }
   ],
   "source": [
    "# Wilcoxon signed-rank test\n",
    "from numpy.random import seed\n",
    "from numpy.random import randn\n",
    "from scipy.stats import wilcoxon\n",
    "# seed the random number generator\n",
    "seed(1)\n",
    "# generate two independent samples\n",
    "data1 = df_ireland[\"Value\"]\n",
    "data2 = df_europe[\"Value\"]\n",
    "# compare samples\n",
    "stat, p = wilcoxon(data1, data2)\n",
    "print('Statistics=%.3f, p=%.3f' % (stat, p))\n",
    "# interpret\n",
    "alpha = 0.05\n",
    "if p > alpha:\n",
    "\tprint('Same distribution (fail to reject H0)')\n",
    "else:\n",
    "\tprint('Different distribution (reject H0)')"
   ]
  },
  {
   "cell_type": "markdown",
   "id": "98ea1d57",
   "metadata": {},
   "source": [
    "# ANOVA (ANalysis Of VAriance)\n",
    "https://www.cienciadedatos.net/documentos/pystats09-analisis-de-varianza-anova-python.html"
   ]
  },
  {
   "cell_type": "markdown",
   "id": "62140036",
   "metadata": {},
   "source": [
    "## Número de grupos, observaciones por grupo y distribución de las observaciones"
   ]
  },
  {
   "cell_type": "code",
   "execution_count": 29,
   "id": "03e2f8bd",
   "metadata": {},
   "outputs": [],
   "source": [
    "# La siguiente tabla contiene una muestra de valores de produccion anual \n",
    "df_anova_europe = pd.read_csv('ANOVA_skim_milk_of_cows_europe.csv')\n"
   ]
  },
  {
   "cell_type": "code",
   "execution_count": 30,
   "id": "6da01cd0",
   "metadata": {},
   "outputs": [
    {
     "data": {
      "text/html": [
       "<div>\n",
       "<style scoped>\n",
       "    .dataframe tbody tr th:only-of-type {\n",
       "        vertical-align: middle;\n",
       "    }\n",
       "\n",
       "    .dataframe tbody tr th {\n",
       "        vertical-align: top;\n",
       "    }\n",
       "\n",
       "    .dataframe thead th {\n",
       "        text-align: right;\n",
       "    }\n",
       "</style>\n",
       "<table border=\"1\" class=\"dataframe\">\n",
       "  <thead>\n",
       "    <tr style=\"text-align: right;\">\n",
       "      <th></th>\n",
       "      <th>Unnamed: 0</th>\n",
       "      <th>Area</th>\n",
       "      <th>Value</th>\n",
       "    </tr>\n",
       "  </thead>\n",
       "  <tbody>\n",
       "    <tr>\n",
       "      <th>0</th>\n",
       "      <td>0</td>\n",
       "      <td>Austria</td>\n",
       "      <td>1135648.0</td>\n",
       "    </tr>\n",
       "    <tr>\n",
       "      <th>1</th>\n",
       "      <td>1</td>\n",
       "      <td>Austria</td>\n",
       "      <td>1151012.0</td>\n",
       "    </tr>\n",
       "    <tr>\n",
       "      <th>2</th>\n",
       "      <td>2</td>\n",
       "      <td>Austria</td>\n",
       "      <td>1154600.0</td>\n",
       "    </tr>\n",
       "    <tr>\n",
       "      <th>3</th>\n",
       "      <td>3</td>\n",
       "      <td>Austria</td>\n",
       "      <td>1143560.0</td>\n",
       "    </tr>\n",
       "    <tr>\n",
       "      <th>4</th>\n",
       "      <td>4</td>\n",
       "      <td>Austria</td>\n",
       "      <td>1139880.0</td>\n",
       "    </tr>\n",
       "  </tbody>\n",
       "</table>\n",
       "</div>"
      ],
      "text/plain": [
       "   Unnamed: 0     Area      Value\n",
       "0           0  Austria  1135648.0\n",
       "1           1  Austria  1151012.0\n",
       "2           2  Austria  1154600.0\n",
       "3           3  Austria  1143560.0\n",
       "4           4  Austria  1139880.0"
      ]
     },
     "execution_count": 30,
     "metadata": {},
     "output_type": "execute_result"
    }
   ],
   "source": [
    "df_anova_europe.head()"
   ]
  },
  {
   "cell_type": "code",
   "execution_count": 31,
   "id": "2b5e75f7",
   "metadata": {},
   "outputs": [
    {
     "data": {
      "text/html": [
       "<div>\n",
       "<style scoped>\n",
       "    .dataframe tbody tr th:only-of-type {\n",
       "        vertical-align: middle;\n",
       "    }\n",
       "\n",
       "    .dataframe tbody tr th {\n",
       "        vertical-align: top;\n",
       "    }\n",
       "\n",
       "    .dataframe thead tr th {\n",
       "        text-align: left;\n",
       "    }\n",
       "\n",
       "    .dataframe thead tr:last-of-type th {\n",
       "        text-align: right;\n",
       "    }\n",
       "</style>\n",
       "<table border=\"1\" class=\"dataframe\">\n",
       "  <thead>\n",
       "    <tr>\n",
       "      <th></th>\n",
       "      <th colspan=\"2\" halign=\"left\">Unnamed: 0</th>\n",
       "      <th colspan=\"2\" halign=\"left\">Value</th>\n",
       "    </tr>\n",
       "    <tr>\n",
       "      <th></th>\n",
       "      <th>mean</th>\n",
       "      <th>std</th>\n",
       "      <th>mean</th>\n",
       "      <th>std</th>\n",
       "    </tr>\n",
       "    <tr>\n",
       "      <th>Area</th>\n",
       "      <th></th>\n",
       "      <th></th>\n",
       "      <th></th>\n",
       "      <th></th>\n",
       "    </tr>\n",
       "  </thead>\n",
       "  <tbody>\n",
       "    <tr>\n",
       "      <th>Austria</th>\n",
       "      <td>29.5</td>\n",
       "      <td>17.464249</td>\n",
       "      <td>1.071972e+06</td>\n",
       "      <td>6.472262e+04</td>\n",
       "    </tr>\n",
       "    <tr>\n",
       "      <th>France</th>\n",
       "      <td>89.5</td>\n",
       "      <td>17.464249</td>\n",
       "      <td>1.110647e+07</td>\n",
       "      <td>1.338626e+06</td>\n",
       "    </tr>\n",
       "    <tr>\n",
       "      <th>Germany</th>\n",
       "      <td>148.5</td>\n",
       "      <td>16.886879</td>\n",
       "      <td>1.493776e+07</td>\n",
       "      <td>3.067757e+06</td>\n",
       "    </tr>\n",
       "    <tr>\n",
       "      <th>Ireland</th>\n",
       "      <td>207.5</td>\n",
       "      <td>17.464249</td>\n",
       "      <td>2.858885e+06</td>\n",
       "      <td>8.437775e+05</td>\n",
       "    </tr>\n",
       "    <tr>\n",
       "      <th>Italy</th>\n",
       "      <td>266.5</td>\n",
       "      <td>16.886879</td>\n",
       "      <td>2.562564e+06</td>\n",
       "      <td>6.800300e+05</td>\n",
       "    </tr>\n",
       "    <tr>\n",
       "      <th>Spain</th>\n",
       "      <td>325.5</td>\n",
       "      <td>17.464249</td>\n",
       "      <td>1.111808e+06</td>\n",
       "      <td>7.618079e+05</td>\n",
       "    </tr>\n",
       "  </tbody>\n",
       "</table>\n",
       "</div>"
      ],
      "text/plain": [
       "        Unnamed: 0                    Value              \n",
       "              mean        std          mean           std\n",
       "Area                                                     \n",
       "Austria       29.5  17.464249  1.071972e+06  6.472262e+04\n",
       "France        89.5  17.464249  1.110647e+07  1.338626e+06\n",
       "Germany      148.5  16.886879  1.493776e+07  3.067757e+06\n",
       "Ireland      207.5  17.464249  2.858885e+06  8.437775e+05\n",
       "Italy        266.5  16.886879  2.562564e+06  6.800300e+05\n",
       "Spain        325.5  17.464249  1.111808e+06  7.618079e+05"
      ]
     },
     "execution_count": 31,
     "metadata": {},
     "output_type": "execute_result"
    }
   ],
   "source": [
    "# Se identifica el número de grupos y cantidad de observaciones por grupo para determinar si es un modelo equilibrado. También se calculan la media y desviación típica de cada grupo\n",
    "df_anova_europe.groupby('Area').agg(['mean', 'std'])\n"
   ]
  },
  {
   "cell_type": "markdown",
   "id": "8ec5ba72",
   "metadata": {},
   "source": [
    "Dado que el número de observaciones por grupo no es constante, se trata de un modelo no equilibrado. Es importante tenerlo en cuenta cuando se comprueben las condiciones de normalidad y homocedasticidad."
   ]
  },
  {
   "cell_type": "markdown",
   "id": "c614bc96",
   "metadata": {},
   "source": [
    "## Análisis gráfico\n",
    "Dos de las representación más útiles antes de realizar un ANOVA son los gráficos Box-Plot y los Violin-Plot.\n",
    "\n"
   ]
  },
  {
   "cell_type": "code",
   "execution_count": 51,
   "id": "f6c94ecd",
   "metadata": {},
   "outputs": [
    {
     "data": {
      "image/png": "[encoded data removed]",
      "text/plain": [
       "<Figure size 1200x600 with 1 Axes>"
      ]
     },
     "metadata": {},
     "output_type": "display_data"
    }
   ],
   "source": [
    "fig, ax = plt.subplots(1, 1, figsize=(12, 6))\n",
    "sns.boxplot(x=\"Area\", y=\"Value\", data=df_anova_europe, ax=ax)\n",
    "sns.swarmplot(x=\"Area\", y=\"Value\", data=df_anova_europe, color='black', alpha = 0.5, ax=ax);"
   ]
  },
  {
   "cell_type": "markdown",
   "id": "96576c50",
   "metadata": {},
   "source": [
    "Este tipo de representación permite identificar de forma preliminar si existen asimetrías, datos atípicos o diferencia de varianzas. En este caso, los 4 grupos parecen seguir una distribución simétrica. En el nivel IF se detectan algunos valores extremos que habrá que estudiar con detalle por si fuese necesario eliminarlos. El tamaño de las cajas es similar para todos los niveles por lo que no hay indicios de falta de homocedasticidad.\n"
   ]
  },
  {
   "cell_type": "markdown",
   "id": "c7110bf2",
   "metadata": {},
   "source": [
    "## Verificar condiciones para un ANOVA"
   ]
  },
  {
   "cell_type": "markdown",
   "id": "15bdd770",
   "metadata": {},
   "source": [
    "#### Independencia\n",
    "\n",
    "Los grupos (variable categórica) y jugadores dentro de cada grupo son independientes entre ellos ya que se ha hecho un muestreo aleatorio de jugadores de toda la liga (no solo de un mismo equipo).\n",
    "\n",
    "\n",
    "#### Distribución normal de las observaciones\n",
    "\n",
    "La variable cuantitativa debe de distribuirse de forma normal en cada uno de los grupos. El estudio de normalidad puede hacerse de forma gráfica (qqplot) o con test de hipótesis.\n",
    "\n"
   ]
  },
  {
   "cell_type": "code",
   "execution_count": 45,
   "id": "ccd480a8",
   "metadata": {},
   "outputs": [
    {
     "data": {
      "image/png": "[encoded data removed]",
      "text/plain": [
       "<Figure size 800x700 with 4 Axes>"
      ]
     },
     "metadata": {},
     "output_type": "display_data"
    }
   ],
   "source": [
    "# Gráficos qqplot\n",
    "# ==============================================================================\n",
    "import pingouin as pg\n",
    "\n",
    "fig, axs = plt.subplots(2, 2, figsize=(8, 7))\n",
    "pg.qqplot(df_anova_europe.loc[df_anova_europe.Area=='Ireland', 'Value'], dist='norm', ax=axs[0,0])\n",
    "axs[0,0].set_title('Ireland')\n",
    "pg.qqplot(df_anova_europe.loc[df_anova_europe.Area=='Germany', 'Value'], dist='norm', ax=axs[0,1])\n",
    "axs[0,1].set_title('Germany')\n",
    "pg.qqplot(df_anova_europe.loc[df_anova_europe.Area=='France', 'Value'], dist='norm', ax=axs[1,0])\n",
    "axs[1,0].set_title('France')\n",
    "pg.qqplot(df_anova_europe.loc[df_anova_europe.Area=='Spain', 'Value'], dist='norm', ax=axs[1,1])\n",
    "axs[1,1].set_title('Spain')\n",
    "plt.tight_layout()"
   ]
  },
  {
   "cell_type": "code",
   "execution_count": 34,
   "id": "dcb6a058",
   "metadata": {},
   "outputs": [
    {
     "data": {
      "text/html": [
       "<div>\n",
       "<style scoped>\n",
       "    .dataframe tbody tr th:only-of-type {\n",
       "        vertical-align: middle;\n",
       "    }\n",
       "\n",
       "    .dataframe tbody tr th {\n",
       "        vertical-align: top;\n",
       "    }\n",
       "\n",
       "    .dataframe thead th {\n",
       "        text-align: right;\n",
       "    }\n",
       "</style>\n",
       "<table border=\"1\" class=\"dataframe\">\n",
       "  <thead>\n",
       "    <tr style=\"text-align: right;\">\n",
       "      <th></th>\n",
       "      <th>W</th>\n",
       "      <th>pval</th>\n",
       "      <th>normal</th>\n",
       "    </tr>\n",
       "    <tr>\n",
       "      <th>Area</th>\n",
       "      <th></th>\n",
       "      <th></th>\n",
       "      <th></th>\n",
       "    </tr>\n",
       "  </thead>\n",
       "  <tbody>\n",
       "    <tr>\n",
       "      <th>Austria</th>\n",
       "      <td>0.983608</td>\n",
       "      <td>0.598183</td>\n",
       "      <td>True</td>\n",
       "    </tr>\n",
       "    <tr>\n",
       "      <th>France</th>\n",
       "      <td>0.972917</td>\n",
       "      <td>0.202250</td>\n",
       "      <td>True</td>\n",
       "    </tr>\n",
       "    <tr>\n",
       "      <th>Germany</th>\n",
       "      <td>0.917592</td>\n",
       "      <td>0.000769</td>\n",
       "      <td>False</td>\n",
       "    </tr>\n",
       "    <tr>\n",
       "      <th>Ireland</th>\n",
       "      <td>0.940704</td>\n",
       "      <td>0.005823</td>\n",
       "      <td>False</td>\n",
       "    </tr>\n",
       "    <tr>\n",
       "      <th>Italy</th>\n",
       "      <td>0.975446</td>\n",
       "      <td>0.286816</td>\n",
       "      <td>True</td>\n",
       "    </tr>\n",
       "    <tr>\n",
       "      <th>Spain</th>\n",
       "      <td>0.898828</td>\n",
       "      <td>0.000119</td>\n",
       "      <td>False</td>\n",
       "    </tr>\n",
       "  </tbody>\n",
       "</table>\n",
       "</div>"
      ],
      "text/plain": [
       "                W      pval  normal\n",
       "Area                               \n",
       "Austria  0.983608  0.598183    True\n",
       "France   0.972917  0.202250    True\n",
       "Germany  0.917592  0.000769   False\n",
       "Ireland  0.940704  0.005823   False\n",
       "Italy    0.975446  0.286816    True\n",
       "Spain    0.898828  0.000119   False"
      ]
     },
     "execution_count": 34,
     "metadata": {},
     "output_type": "execute_result"
    }
   ],
   "source": [
    "# Test de normalidad Shapiro-Wilk\n",
    "# ==============================================================================\n",
    "pg.normality(data=df_anova_europe, dv='Value', group='Area')\n"
   ]
  },
  {
   "cell_type": "markdown",
   "id": "73525b9d",
   "metadata": {},
   "source": [
    "Ni el análisis gráfico ni los test de hipótesis no muestran evidencias de falta de normalidad."
   ]
  },
  {
   "cell_type": "markdown",
   "id": "f3d4f7f5",
   "metadata": {},
   "source": [
    "#### Varianza constante entre grupos (homocedasticidad)\n",
    "\n",
    "Dado que hay un grupo IF que se encuentra en el límite para aceptar que se distribuye de forma normal, el test de Levene más adecuado que el de Bartlett."
   ]
  },
  {
   "cell_type": "code",
   "execution_count": 35,
   "id": "d1312a0e",
   "metadata": {},
   "outputs": [
    {
     "data": {
      "text/html": [
       "<div>\n",
       "<style scoped>\n",
       "    .dataframe tbody tr th:only-of-type {\n",
       "        vertical-align: middle;\n",
       "    }\n",
       "\n",
       "    .dataframe tbody tr th {\n",
       "        vertical-align: top;\n",
       "    }\n",
       "\n",
       "    .dataframe thead th {\n",
       "        text-align: right;\n",
       "    }\n",
       "</style>\n",
       "<table border=\"1\" class=\"dataframe\">\n",
       "  <thead>\n",
       "    <tr style=\"text-align: right;\">\n",
       "      <th></th>\n",
       "      <th>W</th>\n",
       "      <th>pval</th>\n",
       "      <th>equal_var</th>\n",
       "    </tr>\n",
       "  </thead>\n",
       "  <tbody>\n",
       "    <tr>\n",
       "      <th>levene</th>\n",
       "      <td>85.478304</td>\n",
       "      <td>1.617358e-58</td>\n",
       "      <td>False</td>\n",
       "    </tr>\n",
       "  </tbody>\n",
       "</table>\n",
       "</div>"
      ],
      "text/plain": [
       "                W          pval  equal_var\n",
       "levene  85.478304  1.617358e-58      False"
      ]
     },
     "execution_count": 35,
     "metadata": {},
     "output_type": "execute_result"
    }
   ],
   "source": [
    "# Test de homocedasticidad\n",
    "# ==============================================================================\n",
    "pg.homoscedasticity(data=df_anova_europe, dv='Value', group='Area', method='levene')"
   ]
  },
  {
   "cell_type": "markdown",
   "id": "76985d5c",
   "metadata": {},
   "source": [
    "Acorde al test Levene, no hay evidencias significativas que indiquen falta de homocedasticidad.\n"
   ]
  },
  {
   "cell_type": "markdown",
   "id": "ff720d28",
   "metadata": {},
   "source": [
    "## Test ANOVA"
   ]
  },
  {
   "cell_type": "code",
   "execution_count": 36,
   "id": "5d989ff3",
   "metadata": {},
   "outputs": [
    {
     "data": {
      "text/html": [
       "<div>\n",
       "<style scoped>\n",
       "    .dataframe tbody tr th:only-of-type {\n",
       "        vertical-align: middle;\n",
       "    }\n",
       "\n",
       "    .dataframe tbody tr th {\n",
       "        vertical-align: top;\n",
       "    }\n",
       "\n",
       "    .dataframe thead th {\n",
       "        text-align: right;\n",
       "    }\n",
       "</style>\n",
       "<table border=\"1\" class=\"dataframe\">\n",
       "  <thead>\n",
       "    <tr style=\"text-align: right;\">\n",
       "      <th></th>\n",
       "      <th>Source</th>\n",
       "      <th>SS</th>\n",
       "      <th>DF</th>\n",
       "      <th>MS</th>\n",
       "      <th>F</th>\n",
       "      <th>p-unc</th>\n",
       "      <th>np2</th>\n",
       "    </tr>\n",
       "  </thead>\n",
       "  <tbody>\n",
       "    <tr>\n",
       "      <th>0</th>\n",
       "      <td>Area</td>\n",
       "      <td>1.030100e+16</td>\n",
       "      <td>5</td>\n",
       "      <td>2.060200e+15</td>\n",
       "      <td>967.865454</td>\n",
       "      <td>1.852708e-202</td>\n",
       "      <td>0.932554</td>\n",
       "    </tr>\n",
       "    <tr>\n",
       "      <th>1</th>\n",
       "      <td>Within</td>\n",
       "      <td>7.450106e+14</td>\n",
       "      <td>350</td>\n",
       "      <td>2.128602e+12</td>\n",
       "      <td>NaN</td>\n",
       "      <td>NaN</td>\n",
       "      <td>NaN</td>\n",
       "    </tr>\n",
       "  </tbody>\n",
       "</table>\n",
       "</div>"
      ],
      "text/plain": [
       "   Source            SS   DF            MS           F          p-unc  \\\n",
       "0    Area  1.030100e+16    5  2.060200e+15  967.865454  1.852708e-202   \n",
       "1  Within  7.450106e+14  350  2.128602e+12         NaN            NaN   \n",
       "\n",
       "        np2  \n",
       "0  0.932554  \n",
       "1       NaN  "
      ]
     },
     "execution_count": 36,
     "metadata": {},
     "output_type": "execute_result"
    }
   ],
   "source": [
    "# Test ANOVA de una vía (One-way ANOVA)\n",
    "# ==============================================================================\n",
    "pg.anova(data=df_anova_europe, dv='Value', between='Area', detailed=True)"
   ]
  },
  {
   "cell_type": "markdown",
   "id": "01ab647f",
   "metadata": {},
   "source": [
    "Un p-value es superior a 0.1 es una evidencia muy dévil en contra de la hipótesis núla de que todos los grupos tienen la misma media. El valor de eta cuadrado ( 𝜂2 ) es de 0.93, lo ue puede considerarse como un tamaño de efecto grande."
   ]
  },
  {
   "cell_type": "markdown",
   "id": "c62d6377",
   "metadata": {},
   "source": [
    "## Comparaciones múltiples post-hoc\n",
    "\n",
    "\n",
    "En este caso, el ANOVA ha resultado significativo, por lo que tiene sentido realizar comparaciones dos a dos.\n",
    "\n"
   ]
  },
  {
   "cell_type": "code",
   "execution_count": 52,
   "id": "8372080c",
   "metadata": {},
   "outputs": [
    {
     "data": {
      "text/html": [
       "<div>\n",
       "<style scoped>\n",
       "    .dataframe tbody tr th:only-of-type {\n",
       "        vertical-align: middle;\n",
       "    }\n",
       "\n",
       "    .dataframe tbody tr th {\n",
       "        vertical-align: top;\n",
       "    }\n",
       "\n",
       "    .dataframe thead th {\n",
       "        text-align: right;\n",
       "    }\n",
       "</style>\n",
       "<table border=\"1\" class=\"dataframe\">\n",
       "  <thead>\n",
       "    <tr style=\"text-align: right;\">\n",
       "      <th></th>\n",
       "      <th>A</th>\n",
       "      <th>B</th>\n",
       "      <th>mean(A)</th>\n",
       "      <th>mean(B)</th>\n",
       "      <th>diff</th>\n",
       "      <th>se</th>\n",
       "      <th>T</th>\n",
       "      <th>p-tukey</th>\n",
       "      <th>hedges</th>\n",
       "    </tr>\n",
       "  </thead>\n",
       "  <tbody>\n",
       "    <tr>\n",
       "      <th>0</th>\n",
       "      <td>Austria</td>\n",
       "      <td>France</td>\n",
       "      <td>1.071972e+06</td>\n",
       "      <td>1.110647e+07</td>\n",
       "      <td>-1.003450e+07</td>\n",
       "      <td>266370.772</td>\n",
       "      <td>-37.671</td>\n",
       "      <td>0.00</td>\n",
       "      <td>-10.521</td>\n",
       "    </tr>\n",
       "    <tr>\n",
       "      <th>1</th>\n",
       "      <td>Austria</td>\n",
       "      <td>Germany</td>\n",
       "      <td>1.071972e+06</td>\n",
       "      <td>1.493776e+07</td>\n",
       "      <td>-1.386579e+07</td>\n",
       "      <td>268657.258</td>\n",
       "      <td>-51.611</td>\n",
       "      <td>0.00</td>\n",
       "      <td>-6.405</td>\n",
       "    </tr>\n",
       "    <tr>\n",
       "      <th>2</th>\n",
       "      <td>Austria</td>\n",
       "      <td>Ireland</td>\n",
       "      <td>1.071972e+06</td>\n",
       "      <td>2.858885e+06</td>\n",
       "      <td>-1.786913e+06</td>\n",
       "      <td>266370.772</td>\n",
       "      <td>-6.708</td>\n",
       "      <td>0.00</td>\n",
       "      <td>-2.967</td>\n",
       "    </tr>\n",
       "    <tr>\n",
       "      <th>3</th>\n",
       "      <td>Austria</td>\n",
       "      <td>Italy</td>\n",
       "      <td>1.071972e+06</td>\n",
       "      <td>2.562564e+06</td>\n",
       "      <td>-1.490592e+06</td>\n",
       "      <td>268657.258</td>\n",
       "      <td>-5.548</td>\n",
       "      <td>0.00</td>\n",
       "      <td>-3.092</td>\n",
       "    </tr>\n",
       "    <tr>\n",
       "      <th>4</th>\n",
       "      <td>Austria</td>\n",
       "      <td>Spain</td>\n",
       "      <td>1.071972e+06</td>\n",
       "      <td>1.111808e+06</td>\n",
       "      <td>-3.983594e+04</td>\n",
       "      <td>266370.772</td>\n",
       "      <td>-0.150</td>\n",
       "      <td>1.00</td>\n",
       "      <td>-0.073</td>\n",
       "    </tr>\n",
       "    <tr>\n",
       "      <th>5</th>\n",
       "      <td>France</td>\n",
       "      <td>Germany</td>\n",
       "      <td>1.110647e+07</td>\n",
       "      <td>1.493776e+07</td>\n",
       "      <td>-3.831288e+06</td>\n",
       "      <td>268657.258</td>\n",
       "      <td>-14.261</td>\n",
       "      <td>0.00</td>\n",
       "      <td>-1.618</td>\n",
       "    </tr>\n",
       "    <tr>\n",
       "      <th>6</th>\n",
       "      <td>France</td>\n",
       "      <td>Ireland</td>\n",
       "      <td>1.110647e+07</td>\n",
       "      <td>2.858885e+06</td>\n",
       "      <td>8.247589e+06</td>\n",
       "      <td>266370.772</td>\n",
       "      <td>30.963</td>\n",
       "      <td>0.00</td>\n",
       "      <td>7.324</td>\n",
       "    </tr>\n",
       "    <tr>\n",
       "      <th>7</th>\n",
       "      <td>France</td>\n",
       "      <td>Italy</td>\n",
       "      <td>1.110647e+07</td>\n",
       "      <td>2.562564e+06</td>\n",
       "      <td>8.543910e+06</td>\n",
       "      <td>268657.258</td>\n",
       "      <td>31.802</td>\n",
       "      <td>0.00</td>\n",
       "      <td>7.955</td>\n",
       "    </tr>\n",
       "    <tr>\n",
       "      <th>8</th>\n",
       "      <td>France</td>\n",
       "      <td>Spain</td>\n",
       "      <td>1.110647e+07</td>\n",
       "      <td>1.111808e+06</td>\n",
       "      <td>9.994666e+06</td>\n",
       "      <td>266370.772</td>\n",
       "      <td>37.522</td>\n",
       "      <td>0.00</td>\n",
       "      <td>9.119</td>\n",
       "    </tr>\n",
       "    <tr>\n",
       "      <th>9</th>\n",
       "      <td>Germany</td>\n",
       "      <td>Ireland</td>\n",
       "      <td>1.493776e+07</td>\n",
       "      <td>2.858885e+06</td>\n",
       "      <td>1.207888e+07</td>\n",
       "      <td>268657.258</td>\n",
       "      <td>44.960</td>\n",
       "      <td>0.00</td>\n",
       "      <td>5.374</td>\n",
       "    </tr>\n",
       "    <tr>\n",
       "      <th>10</th>\n",
       "      <td>Germany</td>\n",
       "      <td>Italy</td>\n",
       "      <td>1.493776e+07</td>\n",
       "      <td>2.562564e+06</td>\n",
       "      <td>1.237520e+07</td>\n",
       "      <td>270924.448</td>\n",
       "      <td>45.678</td>\n",
       "      <td>0.00</td>\n",
       "      <td>5.533</td>\n",
       "    </tr>\n",
       "    <tr>\n",
       "      <th>11</th>\n",
       "      <td>Germany</td>\n",
       "      <td>Spain</td>\n",
       "      <td>1.493776e+07</td>\n",
       "      <td>1.111808e+06</td>\n",
       "      <td>1.382595e+07</td>\n",
       "      <td>268657.258</td>\n",
       "      <td>51.463</td>\n",
       "      <td>0.00</td>\n",
       "      <td>6.193</td>\n",
       "    </tr>\n",
       "    <tr>\n",
       "      <th>12</th>\n",
       "      <td>Ireland</td>\n",
       "      <td>Italy</td>\n",
       "      <td>2.858885e+06</td>\n",
       "      <td>2.562564e+06</td>\n",
       "      <td>2.963208e+05</td>\n",
       "      <td>268657.258</td>\n",
       "      <td>1.103</td>\n",
       "      <td>0.88</td>\n",
       "      <td>0.383</td>\n",
       "    </tr>\n",
       "    <tr>\n",
       "      <th>13</th>\n",
       "      <td>Ireland</td>\n",
       "      <td>Spain</td>\n",
       "      <td>2.858885e+06</td>\n",
       "      <td>1.111808e+06</td>\n",
       "      <td>1.747077e+06</td>\n",
       "      <td>266370.772</td>\n",
       "      <td>6.559</td>\n",
       "      <td>0.00</td>\n",
       "      <td>2.160</td>\n",
       "    </tr>\n",
       "    <tr>\n",
       "      <th>14</th>\n",
       "      <td>Italy</td>\n",
       "      <td>Spain</td>\n",
       "      <td>2.562564e+06</td>\n",
       "      <td>1.111808e+06</td>\n",
       "      <td>1.450756e+06</td>\n",
       "      <td>268657.258</td>\n",
       "      <td>5.400</td>\n",
       "      <td>0.00</td>\n",
       "      <td>1.994</td>\n",
       "    </tr>\n",
       "  </tbody>\n",
       "</table>\n",
       "</div>"
      ],
      "text/plain": [
       "          A        B       mean(A)       mean(B)          diff          se  \\\n",
       "0   Austria   France  1.071972e+06  1.110647e+07 -1.003450e+07  266370.772   \n",
       "1   Austria  Germany  1.071972e+06  1.493776e+07 -1.386579e+07  268657.258   \n",
       "2   Austria  Ireland  1.071972e+06  2.858885e+06 -1.786913e+06  266370.772   \n",
       "3   Austria    Italy  1.071972e+06  2.562564e+06 -1.490592e+06  268657.258   \n",
       "4   Austria    Spain  1.071972e+06  1.111808e+06 -3.983594e+04  266370.772   \n",
       "5    France  Germany  1.110647e+07  1.493776e+07 -3.831288e+06  268657.258   \n",
       "6    France  Ireland  1.110647e+07  2.858885e+06  8.247589e+06  266370.772   \n",
       "7    France    Italy  1.110647e+07  2.562564e+06  8.543910e+06  268657.258   \n",
       "8    France    Spain  1.110647e+07  1.111808e+06  9.994666e+06  266370.772   \n",
       "9   Germany  Ireland  1.493776e+07  2.858885e+06  1.207888e+07  268657.258   \n",
       "10  Germany    Italy  1.493776e+07  2.562564e+06  1.237520e+07  270924.448   \n",
       "11  Germany    Spain  1.493776e+07  1.111808e+06  1.382595e+07  268657.258   \n",
       "12  Ireland    Italy  2.858885e+06  2.562564e+06  2.963208e+05  268657.258   \n",
       "13  Ireland    Spain  2.858885e+06  1.111808e+06  1.747077e+06  266370.772   \n",
       "14    Italy    Spain  2.562564e+06  1.111808e+06  1.450756e+06  268657.258   \n",
       "\n",
       "         T  p-tukey  hedges  \n",
       "0  -37.671     0.00 -10.521  \n",
       "1  -51.611     0.00  -6.405  \n",
       "2   -6.708     0.00  -2.967  \n",
       "3   -5.548     0.00  -3.092  \n",
       "4   -0.150     1.00  -0.073  \n",
       "5  -14.261     0.00  -1.618  \n",
       "6   30.963     0.00   7.324  \n",
       "7   31.802     0.00   7.955  \n",
       "8   37.522     0.00   9.119  \n",
       "9   44.960     0.00   5.374  \n",
       "10  45.678     0.00   5.533  \n",
       "11  51.463     0.00   6.193  \n",
       "12   1.103     0.88   0.383  \n",
       "13   6.559     0.00   2.160  \n",
       "14   5.400     0.00   1.994  "
      ]
     },
     "execution_count": 52,
     "metadata": {},
     "output_type": "execute_result"
    }
   ],
   "source": [
    "# Post-hoc Tukey test\n",
    "# ==============================================================================\n",
    "pg.pairwise_tukey(data=df_anova_europe, dv='Value', between='Area').round(3)\n"
   ]
  },
  {
   "cell_type": "markdown",
   "id": "5aa0da06",
   "metadata": {},
   "source": [
    "Como era de esperar, se encuentra diferencia significativa entre varios pares de medias.\n"
   ]
  },
  {
   "cell_type": "markdown",
   "id": "20f5d6d7",
   "metadata": {},
   "source": [
    "## Conclusión\n",
    "\n",
    "En el estudio realizado se ha observado un tamaño de efecto grande y la técnicas de inferencia ANOVA han encontrado significancia estadística para rechazar que las medias son iguales entre todos los grupos.\n"
   ]
  },
  {
   "cell_type": "code",
   "execution_count": null,
   "id": "00401e60",
   "metadata": {},
   "outputs": [],
   "source": []
  }
 ],
 "metadata": {
  "kernelspec": {
   "display_name": "Python 3 (ipykernel)",
   "language": "python",
   "name": "python3"
  },
  "language_info": {
   "codemirror_mode": {
    "name": "ipython",
    "version": 3
   },
   "file_extension": ".py",
   "mimetype": "text/x-python",
   "name": "python",
   "nbconvert_exporter": "python",
   "pygments_lexer": "ipython3",
   "version": "3.9.5"
  }
 },
 "nbformat": 4,
 "nbformat_minor": 5
}
