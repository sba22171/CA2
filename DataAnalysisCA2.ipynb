{
 "cells": [
  {
   "cell_type": "code",
   "execution_count": 1,
   "id": "c7731114",
   "metadata": {},
   "outputs": [],
   "source": [
    "# Load the libraries\n",
    "import numpy as np\n",
    "import matplotlib.pyplot as plt\n",
    "import pandas as pd\n",
    "\n",
    "import warnings\n",
    "warnings.filterwarnings('ignore') # We can suppress the warnings"
   ]
  },
  {
   "cell_type": "code",
   "execution_count": 2,
   "id": "2d7b4690",
   "metadata": {},
   "outputs": [
    {
     "data": {
      "text/html": [
       "<div>\n",
       "<style scoped>\n",
       "    .dataframe tbody tr th:only-of-type {\n",
       "        vertical-align: middle;\n",
       "    }\n",
       "\n",
       "    .dataframe tbody tr th {\n",
       "        vertical-align: top;\n",
       "    }\n",
       "\n",
       "    .dataframe thead th {\n",
       "        text-align: right;\n",
       "    }\n",
       "</style>\n",
       "<table border=\"1\" class=\"dataframe\">\n",
       "  <thead>\n",
       "    <tr style=\"text-align: right;\">\n",
       "      <th></th>\n",
       "      <th>Domain Code</th>\n",
       "      <th>Domain</th>\n",
       "      <th>Area Code (M49)</th>\n",
       "      <th>Area</th>\n",
       "      <th>Element Code</th>\n",
       "      <th>Element</th>\n",
       "      <th>Item Code (CPC)</th>\n",
       "      <th>Item</th>\n",
       "      <th>Year Code</th>\n",
       "      <th>Year</th>\n",
       "      <th>Unit</th>\n",
       "      <th>Value</th>\n",
       "      <th>Flag</th>\n",
       "      <th>Flag Description</th>\n",
       "    </tr>\n",
       "  </thead>\n",
       "  <tbody>\n",
       "    <tr>\n",
       "      <th>0</th>\n",
       "      <td>QCL</td>\n",
       "      <td>Crops and livestock products</td>\n",
       "      <td>40</td>\n",
       "      <td>Austria</td>\n",
       "      <td>5510</td>\n",
       "      <td>Production</td>\n",
       "      <td>22241.01</td>\n",
       "      <td>Butter of cow milk</td>\n",
       "      <td>1961</td>\n",
       "      <td>1961</td>\n",
       "      <td>tonnes</td>\n",
       "      <td>38049.0</td>\n",
       "      <td>A</td>\n",
       "      <td>Official figure</td>\n",
       "    </tr>\n",
       "    <tr>\n",
       "      <th>1</th>\n",
       "      <td>QCL</td>\n",
       "      <td>Crops and livestock products</td>\n",
       "      <td>40</td>\n",
       "      <td>Austria</td>\n",
       "      <td>5510</td>\n",
       "      <td>Production</td>\n",
       "      <td>22241.01</td>\n",
       "      <td>Butter of cow milk</td>\n",
       "      <td>1962</td>\n",
       "      <td>1962</td>\n",
       "      <td>tonnes</td>\n",
       "      <td>38885.0</td>\n",
       "      <td>A</td>\n",
       "      <td>Official figure</td>\n",
       "    </tr>\n",
       "    <tr>\n",
       "      <th>2</th>\n",
       "      <td>QCL</td>\n",
       "      <td>Crops and livestock products</td>\n",
       "      <td>40</td>\n",
       "      <td>Austria</td>\n",
       "      <td>5510</td>\n",
       "      <td>Production</td>\n",
       "      <td>22241.01</td>\n",
       "      <td>Butter of cow milk</td>\n",
       "      <td>1963</td>\n",
       "      <td>1963</td>\n",
       "      <td>tonnes</td>\n",
       "      <td>40251.0</td>\n",
       "      <td>A</td>\n",
       "      <td>Official figure</td>\n",
       "    </tr>\n",
       "    <tr>\n",
       "      <th>3</th>\n",
       "      <td>QCL</td>\n",
       "      <td>Crops and livestock products</td>\n",
       "      <td>40</td>\n",
       "      <td>Austria</td>\n",
       "      <td>5510</td>\n",
       "      <td>Production</td>\n",
       "      <td>22241.01</td>\n",
       "      <td>Butter of cow milk</td>\n",
       "      <td>1964</td>\n",
       "      <td>1964</td>\n",
       "      <td>tonnes</td>\n",
       "      <td>41566.0</td>\n",
       "      <td>A</td>\n",
       "      <td>Official figure</td>\n",
       "    </tr>\n",
       "    <tr>\n",
       "      <th>4</th>\n",
       "      <td>QCL</td>\n",
       "      <td>Crops and livestock products</td>\n",
       "      <td>40</td>\n",
       "      <td>Austria</td>\n",
       "      <td>5510</td>\n",
       "      <td>Production</td>\n",
       "      <td>22241.01</td>\n",
       "      <td>Butter of cow milk</td>\n",
       "      <td>1965</td>\n",
       "      <td>1965</td>\n",
       "      <td>tonnes</td>\n",
       "      <td>44665.0</td>\n",
       "      <td>A</td>\n",
       "      <td>Official figure</td>\n",
       "    </tr>\n",
       "  </tbody>\n",
       "</table>\n",
       "</div>"
      ],
      "text/plain": [
       "  Domain Code                        Domain  Area Code (M49)     Area  \\\n",
       "0         QCL  Crops and livestock products               40  Austria   \n",
       "1         QCL  Crops and livestock products               40  Austria   \n",
       "2         QCL  Crops and livestock products               40  Austria   \n",
       "3         QCL  Crops and livestock products               40  Austria   \n",
       "4         QCL  Crops and livestock products               40  Austria   \n",
       "\n",
       "   Element Code     Element  Item Code (CPC)                Item  Year Code  \\\n",
       "0          5510  Production         22241.01  Butter of cow milk       1961   \n",
       "1          5510  Production         22241.01  Butter of cow milk       1962   \n",
       "2          5510  Production         22241.01  Butter of cow milk       1963   \n",
       "3          5510  Production         22241.01  Butter of cow milk       1964   \n",
       "4          5510  Production         22241.01  Butter of cow milk       1965   \n",
       "\n",
       "   Year    Unit    Value Flag Flag Description  \n",
       "0  1961  tonnes  38049.0    A  Official figure  \n",
       "1  1962  tonnes  38885.0    A  Official figure  \n",
       "2  1963  tonnes  40251.0    A  Official figure  \n",
       "3  1964  tonnes  41566.0    A  Official figure  \n",
       "4  1965  tonnes  44665.0    A  Official figure  "
      ]
     },
     "execution_count": 2,
     "metadata": {},
     "output_type": "execute_result"
    }
   ],
   "source": [
    "# Load csv file into dataframe (df)\n",
    "df = pd.read_csv('FAOSTAT_data_en_1-1-2023.csv',encoding_errors='ignore')\n",
    "\n",
    "# Display first 5 records\n",
    "df.head()\n"
   ]
  },
  {
   "cell_type": "markdown",
   "id": "bcb4b1c2",
   "metadata": {},
   "source": [
    "# DESCRIPTIVE STATISTICS"
   ]
  },
  {
   "cell_type": "markdown",
   "id": "5a0337d5",
   "metadata": {},
   "source": [
    "## Ireland"
   ]
  },
  {
   "cell_type": "code",
   "execution_count": 4,
   "id": "fa5fb252",
   "metadata": {},
   "outputs": [],
   "source": [
    "df_ireland = df.loc[df[\"Area\"] == 'Ireland']"
   ]
  },
  {
   "cell_type": "code",
   "execution_count": 5,
   "id": "d9eeee21",
   "metadata": {},
   "outputs": [
    {
     "data": {
      "text/plain": [
       "279607.3867837079"
      ]
     },
     "execution_count": 5,
     "metadata": {},
     "output_type": "execute_result"
    }
   ],
   "source": [
    "df_ireland[\"Value\"].mean()"
   ]
  },
  {
   "cell_type": "code",
   "execution_count": 6,
   "id": "2aa0a0b1",
   "metadata": {},
   "outputs": [
    {
     "data": {
      "text/plain": [
       "23500.805"
      ]
     },
     "execution_count": 6,
     "metadata": {},
     "output_type": "execute_result"
    }
   ],
   "source": [
    "df_ireland[\"Value\"].median()"
   ]
  },
  {
   "cell_type": "code",
   "execution_count": 7,
   "id": "a67dc9f3",
   "metadata": {},
   "outputs": [
    {
     "data": {
      "text/plain": [
       "0    0.0\n",
       "Name: Value, dtype: float64"
      ]
     },
     "execution_count": 7,
     "metadata": {},
     "output_type": "execute_result"
    }
   ],
   "source": [
    "df_ireland[\"Value\"].mode()"
   ]
  },
  {
   "cell_type": "code",
   "execution_count": 8,
   "id": "1e60de95",
   "metadata": {},
   "outputs": [
    {
     "data": {
      "text/plain": [
       "674990963988.973"
      ]
     },
     "execution_count": 8,
     "metadata": {},
     "output_type": "execute_result"
    }
   ],
   "source": [
    "# Variance : S²\n",
    "df_ireland[\"Value\"].var()"
   ]
  },
  {
   "cell_type": "code",
   "execution_count": 9,
   "id": "23cece36",
   "metadata": {},
   "outputs": [
    {
     "data": {
      "text/plain": [
       "821578.337098157"
      ]
     },
     "execution_count": 9,
     "metadata": {},
     "output_type": "execute_result"
    }
   ],
   "source": [
    "# Standard Deviation : S\n",
    "df_ireland[\"Value\"].std()"
   ]
  },
  {
   "cell_type": "markdown",
   "id": "30f6456f",
   "metadata": {},
   "source": [
    "## Rest of countries"
   ]
  },
  {
   "cell_type": "code",
   "execution_count": 10,
   "id": "e3cd3f8a",
   "metadata": {},
   "outputs": [],
   "source": [
    "df_not_ireland = df.loc[df[\"Area\"] != 'Ireland']"
   ]
  },
  {
   "cell_type": "code",
   "execution_count": 11,
   "id": "5fb749f9",
   "metadata": {},
   "outputs": [
    {
     "data": {
      "text/plain": [
       "254286.1831344106"
      ]
     },
     "execution_count": 11,
     "metadata": {},
     "output_type": "execute_result"
    }
   ],
   "source": [
    "df_not_ireland[\"Value\"].mean()"
   ]
  },
  {
   "cell_type": "code",
   "execution_count": 12,
   "id": "411c1254",
   "metadata": {},
   "outputs": [
    {
     "data": {
      "text/plain": [
       "20000.0"
      ]
     },
     "execution_count": 12,
     "metadata": {},
     "output_type": "execute_result"
    }
   ],
   "source": [
    "df_not_ireland[\"Value\"].median()"
   ]
  },
  {
   "cell_type": "code",
   "execution_count": 13,
   "id": "ff3193cb",
   "metadata": {},
   "outputs": [
    {
     "data": {
      "text/plain": [
       "0    0.0\n",
       "Name: Value, dtype: float64"
      ]
     },
     "execution_count": 13,
     "metadata": {},
     "output_type": "execute_result"
    }
   ],
   "source": [
    "df_not_ireland[\"Value\"].mode()"
   ]
  },
  {
   "cell_type": "code",
   "execution_count": 14,
   "id": "cd93161f",
   "metadata": {},
   "outputs": [
    {
     "data": {
      "text/plain": [
       "1534849034055.7605"
      ]
     },
     "execution_count": 14,
     "metadata": {},
     "output_type": "execute_result"
    }
   ],
   "source": [
    "# Variance : S²\n",
    "df_not_ireland[\"Value\"].var()"
   ]
  },
  {
   "cell_type": "code",
   "execution_count": 15,
   "id": "3851d8df",
   "metadata": {},
   "outputs": [
    {
     "data": {
      "text/plain": [
       "1238890.242941545"
      ]
     },
     "execution_count": 15,
     "metadata": {},
     "output_type": "execute_result"
    }
   ],
   "source": [
    "# Standard Deviation : S\n",
    "df_not_ireland[\"Value\"].std()"
   ]
  },
  {
   "cell_type": "markdown",
   "id": "cbe9f368",
   "metadata": {},
   "source": [
    "# inferential statistics\n",
    "## Time series analysis "
   ]
  },
  {
   "cell_type": "code",
   "execution_count": 23,
   "id": "2d16549d",
   "metadata": {},
   "outputs": [
    {
     "data": {
      "text/plain": [
       "Text(0.5, 1.0, 'Skim Milk of Cows Ireland Time Series')"
      ]
     },
     "execution_count": 23,
     "metadata": {},
     "output_type": "execute_result"
    },
    {
     "data": {
      "image/png": "[encoded data removed]",
      "text/plain": [
       "<Figure size 640x480 with 1 Axes>"
      ]
     },
     "metadata": {},
     "output_type": "display_data"
    }
   ],
   "source": [
    "import matplotlib.pyplot as plt\n",
    "import seaborn as sns \n",
    "df_ireland = pd.read_csv('TimeSeries_skim_milk_of_cows_ireland.csv')\n",
    "df_europe = pd.read_csv('TimeSeries_skim_milk_of_cows_europe.csv')\n",
    "\n",
    "sns.lineplot(df_ireland, x=\"Year\", y=\"Value\")\n",
    "plt.ylabel('Value')\n",
    "plt.xlabel('Year')\n",
    "plt.title(\"Skim Milk of Cows Ireland Time Series\")"
   ]
  },
  {
   "cell_type": "code",
   "execution_count": 24,
   "id": "88d0d447",
   "metadata": {},
   "outputs": [
    {
     "data": {
      "text/plain": [
       "Text(0.5, 1.0, 'Skim Milk of Cows Europe Time Series')"
      ]
     },
     "execution_count": 24,
     "metadata": {},
     "output_type": "execute_result"
    },
    {
     "data": {
      "image/png": "[encoded data removed]",
      "text/plain": [
       "<Figure size 640x480 with 1 Axes>"
      ]
     },
     "metadata": {},
     "output_type": "display_data"
    }
   ],
   "source": [
    "sns.lineplot(df_europe, x=\"Year\", y=\"Value\")\n",
    "plt.ylabel('Value')\n",
    "plt.xlabel('Year')\n",
    "plt.title(\"Skim Milk of Cows Europe Time Series\")"
   ]
  },
  {
   "cell_type": "code",
   "execution_count": 25,
   "id": "ded59090",
   "metadata": {},
   "outputs": [
    {
     "data": {
      "image/png": "[encoded data removed]",
      "text/plain": [
       "<Figure size 640x480 with 1 Axes>"
      ]
     },
     "metadata": {},
     "output_type": "display_data"
    }
   ],
   "source": [
    "ax = sns.scatterplot(x=\"Year\", y=\"Value\", data=df_ireland)"
   ]
  },
  {
   "cell_type": "code",
   "execution_count": 33,
   "id": "629edd6b",
   "metadata": {},
   "outputs": [
    {
     "data": {
      "image/png": "[encoded data removed]",
      "text/plain": [
       "<Figure size 640x480 with 1 Axes>"
      ]
     },
     "metadata": {},
     "output_type": "display_data"
    }
   ],
   "source": [
    "ax = sns.scatterplot(x=\"Year\", y=\"Value\", data=df_europe)"
   ]
  },
  {
   "cell_type": "markdown",
   "id": "fc60c88b",
   "metadata": {},
   "source": [
    "## poisson distribution¶\n",
    "based on a given St Stephens Green street, what is the probability of a given number of parking bays to be suspended in a given day\n",
    "\n",
    "If we take the total days for the dataset, and calculate the number of parking bays for a given street during the same period od time we can get the average number of parking bays per day\n",
    "\n"
   ]
  },
  {
   "cell_type": "code",
   "execution_count": 34,
   "id": "51a335e5",
   "metadata": {},
   "outputs": [],
   "source": [
    "# Dataset started on.....\n",
    "\n",
    "Total_Years = df_ireland[\"Year\"].nunique()"
   ]
  },
  {
   "cell_type": "code",
   "execution_count": 35,
   "id": "4c5f5078",
   "metadata": {},
   "outputs": [
    {
     "name": "stdout",
     "output_type": "stream",
     "text": [
      "60\n"
     ]
    }
   ],
   "source": [
    "print(Total_Years)\n"
   ]
  },
  {
   "cell_type": "code",
   "execution_count": 37,
   "id": "931f3830",
   "metadata": {},
   "outputs": [
    {
     "data": {
      "text/plain": [
       "171533112.31"
      ]
     },
     "execution_count": 37,
     "metadata": {},
     "output_type": "execute_result"
    }
   ],
   "source": [
    "df_ireland[\"Value\"].sum()"
   ]
  },
  {
   "cell_type": "code",
   "execution_count": 41,
   "id": "e0bcaaf8",
   "metadata": {},
   "outputs": [
    {
     "name": "stdout",
     "output_type": "stream",
     "text": [
      "2858885.205166667\n"
     ]
    }
   ],
   "source": [
    "# The averageof value per year\n",
    "mu = df_ireland[\"Value\"].sum() / Total_Years\n",
    "print(mu)"
   ]
  },
  {
   "cell_type": "code",
   "execution_count": 53,
   "id": "a994af4f",
   "metadata": {},
   "outputs": [
    {
     "data": {
      "text/plain": [
       "array([2860298, 2859873, 2857936, 2858760, 2856952, 2858793, 2857141,\n",
       "       2856933, 2856601, 2857020, 2859482, 2858798, 2859311, 2860500,\n",
       "       2859799, 2857388, 2860877, 2860041, 2861825, 2858796, 2858461,\n",
       "       2858714, 2857218, 2856684, 2859934, 2861148, 2857615, 2858596,\n",
       "       2858103, 2856524, 2855998, 2857330, 2857581, 2860189, 2859208,\n",
       "       2859506, 2859401, 2857795, 2859247, 2862226, 2859772, 2858696,\n",
       "       2857607, 2858310, 2858770, 2857708, 2857154, 2857780, 2858084,\n",
       "       2859209, 2858188, 2857468, 2856419, 2856409, 2861150, 2857401,\n",
       "       2858348, 2859155, 2860018, 2860602, 2855860, 2857374, 2858635,\n",
       "       2859293, 2859398, 2861150, 2857872, 2861909, 2855543, 2856810,\n",
       "       2857146, 2859519, 2860950, 2859498, 2856130, 2857686, 2856889,\n",
       "       2857365, 2863258, 2861563, 2858145, 2860004, 2856950, 2858131,\n",
       "       2857103, 2859266, 2860355, 2859410, 2857342, 2859038, 2857595,\n",
       "       2858140, 2856685, 2857520, 2858360, 2858594, 2857607, 2860308,\n",
       "       2862026, 2859669, 2860601, 2859900, 2858528, 2859462, 2857533,\n",
       "       2858002, 2859485, 2857465, 2857082, 2858795, 2857813, 2859230,\n",
       "       2859755, 2859383, 2854877, 2860151, 2860270, 2861373, 2860687,\n",
       "       2857962, 2858211, 2857506, 2862331, 2862307, 2857951, 2859067,\n",
       "       2858797, 2862212, 2857519, 2859261, 2856329, 2858881, 2859458,\n",
       "       2860961, 2857245, 2858347, 2861000, 2859844, 2860106, 2859207,\n",
       "       2857847, 2858713, 2858819, 2859305, 2859051, 2861129, 2861242,\n",
       "       2861457, 2860110, 2858105, 2860569, 2859151, 2859729, 2861903,\n",
       "       2860045, 2859842, 2855310, 2857350, 2858729, 2856645, 2858368,\n",
       "       2857612, 2859460, 2858810, 2857286, 2857128, 2859075, 2858918,\n",
       "       2857294, 2858329, 2859700, 2860695, 2858627, 2859290, 2857681,\n",
       "       2856331, 2860815, 2859002, 2856646, 2859750, 2857969, 2856031,\n",
       "       2859060, 2859400, 2859623, 2860464, 2858598, 2857502, 2856302,\n",
       "       2856291, 2859273, 2860059, 2856760, 2861903, 2858272, 2860344,\n",
       "       2857486, 2859985, 2859969, 2857456])"
      ]
     },
     "execution_count": 53,
     "metadata": {},
     "output_type": "execute_result"
    }
   ],
   "source": [
    "from scipy.stats import poisson\n",
    "\n",
    "# mu = average\n",
    "# size = number of xamples\n",
    "\n",
    "#generate random values from Poisson distribution with mean=mu and sample size=200\n",
    "poisson.rvs(mu=mu, size=200)"
   ]
  },
  {
   "cell_type": "code",
   "execution_count": 54,
   "id": "fc29192b",
   "metadata": {},
   "outputs": [
    {
     "data": {
      "text/plain": [
       "0.0"
      ]
     },
     "execution_count": 54,
     "metadata": {},
     "output_type": "execute_result"
    }
   ],
   "source": [
    "# Probability Equal to Zero\n",
    "from scipy.stats import poisson\n",
    "# EXACT NUMBER\n",
    "\n",
    "# mu = average\n",
    "# k = value we are looking for \n",
    "\n",
    "#calculate probability\n",
    "poisson.pmf(k=0, mu=mu)\n",
    "\n"
   ]
  },
  {
   "cell_type": "code",
   "execution_count": 55,
   "id": "736101e6",
   "metadata": {},
   "outputs": [
    {
     "data": {
      "text/plain": [
       "7.309799094249581e-08"
      ]
     },
     "execution_count": 55,
     "metadata": {},
     "output_type": "execute_result"
    }
   ],
   "source": [
    "# Probability Less than 2850000\n",
    "from scipy.stats import poisson\n",
    "\n",
    "# LESS or EQUAL\n",
    "#calculate probability\n",
    "poisson.cdf(k=2850000, mu=mu)\n"
   ]
  },
  {
   "cell_type": "code",
   "execution_count": 56,
   "id": "ea53020f",
   "metadata": {},
   "outputs": [
    {
     "data": {
      "text/plain": [
       "0.7452677293204444"
      ]
     },
     "execution_count": 56,
     "metadata": {},
     "output_type": "execute_result"
    }
   ],
   "source": [
    "# Probability Greater than  2850000 and less than 2860000 \n",
    "from scipy.stats import poisson\n",
    "\n",
    "poisson.cdf(k=2860000, mu=mu) - poisson.cdf(k=2850000, mu=mu)"
   ]
  },
  {
   "cell_type": "code",
   "execution_count": 57,
   "id": "3ef74488",
   "metadata": {},
   "outputs": [
    {
     "data": {
      "text/plain": [
       "(array([4.70662065e-07, 4.78506432e-06, 2.69061814e-05, 9.86037025e-05,\n",
       "        1.98227173e-04, 2.27565108e-04, 1.53514277e-04, 5.73423282e-05,\n",
       "        1.45905240e-05, 2.43175400e-06]),\n",
       " array([2852155. , 2853429.8, 2854704.6, 2855979.4, 2857254.2, 2858529. ,\n",
       "        2859803.8, 2861078.6, 2862353.4, 2863628.2, 2864903. ]),\n",
       " <BarContainer object of 10 artists>)"
      ]
     },
     "execution_count": 57,
     "metadata": {},
     "output_type": "execute_result"
    },
    {
     "data": {
      "image/png": "[encoded data removed]",
      "text/plain": [
       "<Figure size 640x480 with 1 Axes>"
      ]
     },
     "metadata": {},
     "output_type": "display_data"
    }
   ],
   "source": [
    "# Plot a Poisson Distribution\n",
    "from scipy.stats import poisson\n",
    "import matplotlib.pyplot as plt\n",
    "\n",
    "\n",
    "#generate Poisson distribution with sample size 10000\n",
    "x = poisson.rvs(mu=mu, size=10000)\n",
    "\n",
    "#create plot of Poisson distribution\n",
    "plt.hist(x, density=True, edgecolor='black')"
   ]
  },
  {
   "cell_type": "markdown",
   "id": "2ccfb55c",
   "metadata": {},
   "source": [
    "# parametric and non-parametric inferential statistical "
   ]
  },
  {
   "cell_type": "code",
   "execution_count": 66,
   "id": "bcd3f4d9",
   "metadata": {},
   "outputs": [
    {
     "name": "stdout",
     "output_type": "stream",
     "text": [
      "Statistics=0.000, p=0.000\n",
      "Different distribution (reject H0)\n"
     ]
    }
   ],
   "source": [
    "# Wilcoxon signed-rank test\n",
    "from numpy.random import seed\n",
    "from numpy.random import randn\n",
    "from scipy.stats import wilcoxon\n",
    "# seed the random number generator\n",
    "seed(1)\n",
    "# generate two independent samples\n",
    "data1 = df_ireland[\"Value\"]\n",
    "data2 = df_europe[\"Value\"]\n",
    "# compare samples\n",
    "stat, p = wilcoxon(data1, data2)\n",
    "print('Statistics=%.3f, p=%.3f' % (stat, p))\n",
    "# interpret\n",
    "alpha = 0.05\n",
    "if p > alpha:\n",
    "\tprint('Same distribution (fail to reject H0)')\n",
    "else:\n",
    "\tprint('Different distribution (reject H0)')"
   ]
  },
  {
   "cell_type": "code",
   "execution_count": null,
   "id": "b045f684",
   "metadata": {},
   "outputs": [],
   "source": []
  }
 ],
 "metadata": {
  "kernelspec": {
   "display_name": "Python 3 (ipykernel)",
   "language": "python",
   "name": "python3"
  },
  "language_info": {
   "codemirror_mode": {
    "name": "ipython",
    "version": 3
   },
   "file_extension": ".py",
   "mimetype": "text/x-python",
   "name": "python",
   "nbconvert_exporter": "python",
   "pygments_lexer": "ipython3",
   "version": "3.9.5"
  }
 },
 "nbformat": 4,
 "nbformat_minor": 5
}
